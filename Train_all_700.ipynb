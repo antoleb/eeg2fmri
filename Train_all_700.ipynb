{
 "cells": [
  {
   "cell_type": "code",
   "execution_count": 1,
   "metadata": {},
   "outputs": [
    {
     "name": "stdout",
     "output_type": "stream",
     "text": [
      "Thu May  3 11:52:41 2018       \n",
      "+-----------------------------------------------------------------------------+\n",
      "| NVIDIA-SMI 387.34                 Driver Version: 387.34                    |\n",
      "|-------------------------------+----------------------+----------------------+\n",
      "| GPU  Name        Persistence-M| Bus-Id        Disp.A | Volatile Uncorr. ECC |\n",
      "| Fan  Temp  Perf  Pwr:Usage/Cap|         Memory-Usage | GPU-Util  Compute M. |\n",
      "|===============================+======================+======================|\n",
      "|   0  GeForce GTX 108...  Off  | 00000000:05:00.0 Off |                  N/A |\n",
      "| 34%   55C    P8    21W / 250W |   1374MiB / 11167MiB |      0%      Default |\n",
      "+-------------------------------+----------------------+----------------------+\n",
      "|   1  GeForce GTX 108...  Off  | 00000000:06:00.0 Off |                  N/A |\n",
      "| 54%   76C    P2    79W / 250W |    430MiB / 11172MiB |      0%      Default |\n",
      "+-------------------------------+----------------------+----------------------+\n",
      "|   2  GeForce GTX 108...  Off  | 00000000:09:00.0 Off |                  N/A |\n",
      "| 53%   75C    P2    77W / 250W |  10704MiB / 11172MiB |      0%      Default |\n",
      "+-------------------------------+----------------------+----------------------+\n",
      "|   3  GeForce GTX 108...  Off  | 00000000:0A:00.0 Off |                  N/A |\n",
      "| 29%   48C    P8    18W / 250W |   7679MiB / 11172MiB |      0%      Default |\n",
      "+-------------------------------+----------------------+----------------------+\n",
      "                                                                               \n",
      "+-----------------------------------------------------------------------------+\n",
      "| Processes:                                                       GPU Memory |\n",
      "|  GPU       PID   Type   Process name                             Usage      |\n",
      "|=============================================================================|\n",
      "+-----------------------------------------------------------------------------+\n"
     ]
    }
   ],
   "source": [
    "!nvidia-smi"
   ]
  },
  {
   "cell_type": "code",
   "execution_count": 2,
   "metadata": {},
   "outputs": [],
   "source": [
    "import os\n",
    "os.environ['CUDA_VISIBLE_DEVICES'] = '1'"
   ]
  },
  {
   "cell_type": "code",
   "execution_count": 3,
   "metadata": {},
   "outputs": [],
   "source": [
    "from train.model_per_person_trainer import ModelPerPersonTrainer"
   ]
  },
  {
   "cell_type": "code",
   "execution_count": 4,
   "metadata": {},
   "outputs": [],
   "source": [
    "!rm -r ../../reports/500_50_iters_1_non_const_bs"
   ]
  },
  {
   "cell_type": "code",
   "execution_count": null,
   "metadata": {},
   "outputs": [],
   "source": [
    "trainer = ModelPerPersonTrainer('../../data/',\n",
    "                                '../../reports/500_50_iters_1_non_const_bs',\n",
    "                                210, 30,\n",
    "                                num_iters=500*50,\n",
    "                                batch_size=1)"
   ]
  },
  {
   "cell_type": "code",
   "execution_count": null,
   "metadata": {},
   "outputs": [
    {
     "name": "stdout",
     "output_type": "stream",
     "text": [
      "Extracting parameters from ../../data/EEG/40/export/20130510400002_Pulse_Artifact_Correction_bin.vhdr...\n",
      "No coordinate information found for channels ['ECG']. Setting channel types to misc. To avoid this warning, set channel types explicitly.\n",
      "Setting channel info structure...\n",
      "Currently, 4 trigger(s) will be dropped, such as [s , R, Sync On, Scanner start]. Consider using ``event_id`` to parse triggers that do not follow the 'S###' pattern.\n"
     ]
    },
    {
     "name": "stderr",
     "output_type": "stream",
     "text": [
      "/home/amplifier/home/proj_dev/eeg2fmri/samplers/full_stack_batcher.py:43: RuntimeWarning: No coordinate information found for channels ['ECG']. Setting channel types to misc. To avoid this warning, set channel types explicitly.\n",
      "  eeg = mne.io.read_raw_brainvision(path, event_id={\"Scan Start\": 1})\n",
      "/home/amplifier/home/proj_dev/eeg2fmri/samplers/full_stack_batcher.py:43: RuntimeWarning: Currently, 4 trigger(s) will be dropped, such as [s , R, Sync On, Scanner start]. Consider using ``event_id`` to parse triggers that do not follow the 'S###' pattern.\n",
      "  eeg = mne.io.read_raw_brainvision(path, event_id={\"Scan Start\": 1})\n"
     ]
    },
    {
     "name": "stdout",
     "output_type": "stream",
     "text": [
      "300 events found\n",
      "Events id: [1]\n",
      "Extracting parameters from ../../data/EEG/40/export/20130510400002_Pulse_Artifact_Correction_bin.vhdr...\n",
      "No coordinate information found for channels ['ECG']. Setting channel types to misc. To avoid this warning, set channel types explicitly.\n",
      "Setting channel info structure...\n",
      "Currently, 4 trigger(s) will be dropped, such as [s , R, Sync On, Scanner start]. Consider using ``event_id`` to parse triggers that do not follow the 'S###' pattern.\n"
     ]
    },
    {
     "name": "stderr",
     "output_type": "stream",
     "text": [
      "/home/amplifier/home/proj_dev/eeg2fmri/samplers/full_stack_batcher.py:43: RuntimeWarning: No coordinate information found for channels ['ECG']. Setting channel types to misc. To avoid this warning, set channel types explicitly.\n",
      "  eeg = mne.io.read_raw_brainvision(path, event_id={\"Scan Start\": 1})\n",
      "/home/amplifier/home/proj_dev/eeg2fmri/samplers/full_stack_batcher.py:43: RuntimeWarning: Currently, 4 trigger(s) will be dropped, such as [s , R, Sync On, Scanner start]. Consider using ``event_id`` to parse triggers that do not follow the 'S###' pattern.\n",
      "  eeg = mne.io.read_raw_brainvision(path, event_id={\"Scan Start\": 1})\n"
     ]
    },
    {
     "name": "stdout",
     "output_type": "stream",
     "text": [
      "300 events found\n",
      "Events id: [1]\n",
      "Extracting parameters from ../../data/EEG/49/export/20130918490002_Pulse_Artifact_Correction_bin.vhdr...\n",
      "No coordinate information found for channels ['ECG']. Setting channel types to misc. To avoid this warning, set channel types explicitly.\n",
      "Setting channel info structure...\n",
      "Currently, 4 trigger(s) will be dropped, such as [s , R, Scanner Start, Sync On]. Consider using ``event_id`` to parse triggers that do not follow the 'S###' pattern.\n"
     ]
    },
    {
     "name": "stderr",
     "output_type": "stream",
     "text": [
      "/home/amplifier/home/proj_dev/eeg2fmri/samplers/full_stack_batcher.py:43: RuntimeWarning: No coordinate information found for channels ['ECG']. Setting channel types to misc. To avoid this warning, set channel types explicitly.\n",
      "  eeg = mne.io.read_raw_brainvision(path, event_id={\"Scan Start\": 1})\n",
      "/home/amplifier/home/proj_dev/eeg2fmri/samplers/full_stack_batcher.py:43: RuntimeWarning: Currently, 4 trigger(s) will be dropped, such as [s , R, Scanner Start, Sync On]. Consider using ``event_id`` to parse triggers that do not follow the 'S###' pattern.\n",
      "  eeg = mne.io.read_raw_brainvision(path, event_id={\"Scan Start\": 1})\n"
     ]
    },
    {
     "name": "stdout",
     "output_type": "stream",
     "text": [
      "300 events found\n",
      "Events id: [1]\n",
      "Extracting parameters from ../../data/EEG/49/export/20130918490002_Pulse_Artifact_Correction_bin.vhdr...\n",
      "No coordinate information found for channels ['ECG']. Setting channel types to misc. To avoid this warning, set channel types explicitly.\n",
      "Setting channel info structure...\n",
      "Currently, 4 trigger(s) will be dropped, such as [s , R, Scanner Start, Sync On]. Consider using ``event_id`` to parse triggers that do not follow the 'S###' pattern.\n",
      "300 events found\n",
      "Events id: [1]\n"
     ]
    },
    {
     "name": "stderr",
     "output_type": "stream",
     "text": [
      "/home/amplifier/home/proj_dev/eeg2fmri/samplers/full_stack_batcher.py:43: RuntimeWarning: No coordinate information found for channels ['ECG']. Setting channel types to misc. To avoid this warning, set channel types explicitly.\n",
      "  eeg = mne.io.read_raw_brainvision(path, event_id={\"Scan Start\": 1})\n",
      "/home/amplifier/home/proj_dev/eeg2fmri/samplers/full_stack_batcher.py:43: RuntimeWarning: Currently, 4 trigger(s) will be dropped, such as [s , R, Scanner Start, Sync On]. Consider using ``event_id`` to parse triggers that do not follow the 'S###' pattern.\n",
      "  eeg = mne.io.read_raw_brainvision(path, event_id={\"Scan Start\": 1})\n"
     ]
    }
   ],
   "source": [
    "trainer.train()"
   ]
  },
  {
   "cell_type": "code",
   "execution_count": 11,
   "metadata": {},
   "outputs": [
    {
     "name": "stdout",
     "output_type": "stream",
     "text": [
      "cp: omitting directory '../../proj_15/samplers/__pycache__'\r\n"
     ]
    }
   ],
   "source": [
    "!cp ../../proj_15/samplers/* ./samplers/"
   ]
  },
  {
   "cell_type": "code",
   "execution_count": null,
   "metadata": {},
   "outputs": [],
   "source": []
  }
 ],
 "metadata": {
  "kernelspec": {
   "display_name": "Python 3",
   "language": "python",
   "name": "python3"
  },
  "language_info": {
   "codemirror_mode": {
    "name": "ipython",
    "version": 3
   },
   "file_extension": ".py",
   "mimetype": "text/x-python",
   "name": "python",
   "nbconvert_exporter": "python",
   "pygments_lexer": "ipython3",
   "version": "3.6.3"
  }
 },
 "nbformat": 4,
 "nbformat_minor": 2
}
