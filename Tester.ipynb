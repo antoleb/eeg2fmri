{
 "cells": [
  {
   "cell_type": "code",
   "execution_count": 1,
   "metadata": {},
   "outputs": [
    {
     "name": "stdout",
     "output_type": "stream",
     "text": [
      "Tue May 15 11:26:06 2018       \n",
      "+-----------------------------------------------------------------------------+\n",
      "| NVIDIA-SMI 390.48                 Driver Version: 390.48                    |\n",
      "|-------------------------------+----------------------+----------------------+\n",
      "| GPU  Name        Persistence-M| Bus-Id        Disp.A | Volatile Uncorr. ECC |\n",
      "| Fan  Temp  Perf  Pwr:Usage/Cap|         Memory-Usage | GPU-Util  Compute M. |\n",
      "|===============================+======================+======================|\n",
      "|   0  GeForce GTX 108...  Off  | 00000000:05:00.0  On |                  N/A |\n",
      "| 37%   59C    P2    58W / 250W |    210MiB / 11170MiB |      0%      Default |\n",
      "+-------------------------------+----------------------+----------------------+\n",
      "|   1  GeForce GTX 108...  Off  | 00000000:06:00.0 Off |                  N/A |\n",
      "| 25%   45C    P8    10W / 250W |      2MiB / 11178MiB |      0%      Default |\n",
      "+-------------------------------+----------------------+----------------------+\n",
      "|   2  GeForce GTX 108...  Off  | 00000000:09:00.0 Off |                  N/A |\n",
      "| 23%   42C    P8    11W / 250W |      2MiB / 11178MiB |      0%      Default |\n",
      "+-------------------------------+----------------------+----------------------+\n",
      "|   3  GeForce GTX 108...  Off  | 00000000:0A:00.0 Off |                  N/A |\n",
      "| 21%   38C    P8    10W / 250W |      2MiB / 11178MiB |      0%      Default |\n",
      "+-------------------------------+----------------------+----------------------+\n",
      "                                                                               \n",
      "+-----------------------------------------------------------------------------+\n",
      "| Processes:                                                       GPU Memory |\n",
      "|  GPU       PID   Type   Process name                             Usage      |\n",
      "|=============================================================================|\n",
      "+-----------------------------------------------------------------------------+\n"
     ]
    }
   ],
   "source": [
    "!nvidia-smi"
   ]
  },
  {
   "cell_type": "code",
   "execution_count": 2,
   "metadata": {},
   "outputs": [],
   "source": [
    "from test.base_tester_tf import BaseTester\n",
    "from preprocessing.eeg2tftr import Eeg2Tftr\n",
    "\n",
    "import os\n",
    "import numpy as np\n",
    "import nibabel as nib\n",
    "\n",
    "import mne\n",
    "\n",
    "os.environ['CUDA_VISIBLE_DEVICES'] = '0'"
   ]
  },
  {
   "cell_type": "code",
   "execution_count": 3,
   "metadata": {},
   "outputs": [],
   "source": [
    "def read_vhdr(path):\n",
    "    def read_data(path):\n",
    "        eeg = mne.io.read_raw_brainvision(path, event_id={\"Scan Start\": 1})\n",
    "        data = np.delete(eeg.get_data(), [len(eeg.ch_names) - 1], 0)\n",
    "        return data[:, mne.find_events(eeg)[0][0]:]\n",
    "\n",
    "    path = os.path.join(path, 'export')\n",
    "    files = os.listdir(path)\n",
    "    for file in files:\n",
    "        if file[-5:] == '.vhdr':\n",
    "            return read_data(os.path.join(path, file))#[:,::-1]\n",
    "\n",
    "\n",
    "def read_img(path):\n",
    "    files = os.listdir(path)\n",
    "    for file in files:\n",
    "        if file[-12:] == 'cross.nii.gz':\n",
    "            return nib.load(os.path.join(path, file)).get_data()"
   ]
  },
  {
   "cell_type": "code",
   "execution_count": null,
   "metadata": {},
   "outputs": [],
   "source": []
  },
  {
   "cell_type": "code",
   "execution_count": 4,
   "metadata": {},
   "outputs": [
    {
     "name": "stdout",
     "output_type": "stream",
     "text": [
      "32  35\t36  37\t38  39\t40  41\t42  43\t44  45\t46  47\t48  49\t50\r\n"
     ]
    }
   ],
   "source": [
    "!ls ./reports/low_net3D_1_all/"
   ]
  },
  {
   "cell_type": "code",
   "execution_count": 5,
   "metadata": {},
   "outputs": [],
   "source": [
    "fmri_path = '../../data/fMRI/'\n",
    "eeg_path = '../../data/EEG/'\n",
    "#report_path = '../../reports/iters700_50___13_02_rev/'\n",
    "report_path = './reports/low_net3D_2_all/'"
   ]
  },
  {
   "cell_type": "code",
   "execution_count": 10,
   "metadata": {},
   "outputs": [],
   "source": [
    "all_people = os.listdir(fmri_path)[-7:]\n",
    "#all_people = ['42']"
   ]
  },
  {
   "cell_type": "code",
   "execution_count": 9,
   "metadata": {},
   "outputs": [
    {
     "data": {
      "text/plain": [
       "['42', '43', '39', '44', '38', '41', '45']"
      ]
     },
     "execution_count": 9,
     "metadata": {},
     "output_type": "execute_result"
    }
   ],
   "source": [
    "os.listdir(fmri_path)[-7:]"
   ]
  },
  {
   "cell_type": "code",
   "execution_count": 11,
   "metadata": {
    "scrolled": false
   },
   "outputs": [
    {
     "name": "stdout",
     "output_type": "stream",
     "text": [
      "Extracting parameters from ../../data/EEG/42/export/20130523420002_Pulse_Artifact_Correction_bin.vhdr...\n",
      "No coordinate information found for channels ['ECG']. Setting channel types to misc. To avoid this warning, set channel types explicitly.\n",
      "Setting channel info structure...\n",
      "Currently, 4 trigger(s) will be dropped, such as [Scanner Start, Sync On, R, s ]. Consider using ``event_id`` to parse triggers that do not follow the 'S###' pattern.\n"
     ]
    },
    {
     "name": "stderr",
     "output_type": "stream",
     "text": [
      "<ipython-input-3-01d4b85353e4>:3: RuntimeWarning: No coordinate information found for channels ['ECG']. Setting channel types to misc. To avoid this warning, set channel types explicitly.\n",
      "  eeg = mne.io.read_raw_brainvision(path, event_id={\"Scan Start\": 1})\n",
      "<ipython-input-3-01d4b85353e4>:3: RuntimeWarning: Currently, 4 trigger(s) will be dropped, such as [Scanner Start, Sync On, R, s ]. Consider using ``event_id`` to parse triggers that do not follow the 'S###' pattern.\n",
      "  eeg = mne.io.read_raw_brainvision(path, event_id={\"Scan Start\": 1})\n"
     ]
    },
    {
     "name": "stdout",
     "output_type": "stream",
     "text": [
      "300 events found\n",
      "Events id: [1]\n",
      "Extracting parameters from ../../data/EEG/43/export/20130529430002_Pulse_Artifact_Correction_bin.vhdr...\n",
      "No coordinate information found for channels ['ECG']. Setting channel types to misc. To avoid this warning, set channel types explicitly.\n",
      "Setting channel info structure...\n",
      "Currently, 4 trigger(s) will be dropped, such as [s , Sync On, R, Scanner Start]. Consider using ``event_id`` to parse triggers that do not follow the 'S###' pattern.\n"
     ]
    },
    {
     "name": "stderr",
     "output_type": "stream",
     "text": [
      "<ipython-input-3-01d4b85353e4>:3: RuntimeWarning: No coordinate information found for channels ['ECG']. Setting channel types to misc. To avoid this warning, set channel types explicitly.\n",
      "  eeg = mne.io.read_raw_brainvision(path, event_id={\"Scan Start\": 1})\n",
      "<ipython-input-3-01d4b85353e4>:3: RuntimeWarning: Currently, 4 trigger(s) will be dropped, such as [s , Sync On, R, Scanner Start]. Consider using ``event_id`` to parse triggers that do not follow the 'S###' pattern.\n",
      "  eeg = mne.io.read_raw_brainvision(path, event_id={\"Scan Start\": 1})\n"
     ]
    },
    {
     "name": "stdout",
     "output_type": "stream",
     "text": [
      "300 events found\n",
      "Events id: [1]\n",
      "Extracting parameters from ../../data/EEG/39/export/20130501390002_Pulse_Artifact_Correction_bin.vhdr...\n",
      "No coordinate information found for channels ['ECG']. Setting channel types to misc. To avoid this warning, set channel types explicitly.\n",
      "Setting channel info structure...\n",
      "Currently, 4 trigger(s) will be dropped, such as [Sync On, R, Scanner start, s ]. Consider using ``event_id`` to parse triggers that do not follow the 'S###' pattern.\n"
     ]
    },
    {
     "name": "stderr",
     "output_type": "stream",
     "text": [
      "<ipython-input-3-01d4b85353e4>:3: RuntimeWarning: No coordinate information found for channels ['ECG']. Setting channel types to misc. To avoid this warning, set channel types explicitly.\n",
      "  eeg = mne.io.read_raw_brainvision(path, event_id={\"Scan Start\": 1})\n",
      "<ipython-input-3-01d4b85353e4>:3: RuntimeWarning: Currently, 4 trigger(s) will be dropped, such as [Sync On, R, Scanner start, s ]. Consider using ``event_id`` to parse triggers that do not follow the 'S###' pattern.\n",
      "  eeg = mne.io.read_raw_brainvision(path, event_id={\"Scan Start\": 1})\n"
     ]
    },
    {
     "name": "stdout",
     "output_type": "stream",
     "text": [
      "300 events found\n",
      "Events id: [1]\n",
      "Extracting parameters from ../../data/EEG/44/export/20130605440002_Pulse_Artifact_Correction_bin.vhdr...\n",
      "No coordinate information found for channels ['ECG']. Setting channel types to misc. To avoid this warning, set channel types explicitly.\n",
      "Setting channel info structure...\n",
      "Currently, 4 trigger(s) will be dropped, such as [s , Sync On, R, Scanner Start]. Consider using ``event_id`` to parse triggers that do not follow the 'S###' pattern.\n"
     ]
    },
    {
     "name": "stderr",
     "output_type": "stream",
     "text": [
      "<ipython-input-3-01d4b85353e4>:3: RuntimeWarning: No coordinate information found for channels ['ECG']. Setting channel types to misc. To avoid this warning, set channel types explicitly.\n",
      "  eeg = mne.io.read_raw_brainvision(path, event_id={\"Scan Start\": 1})\n",
      "<ipython-input-3-01d4b85353e4>:3: RuntimeWarning: Currently, 4 trigger(s) will be dropped, such as [s , Sync On, R, Scanner Start]. Consider using ``event_id`` to parse triggers that do not follow the 'S###' pattern.\n",
      "  eeg = mne.io.read_raw_brainvision(path, event_id={\"Scan Start\": 1})\n"
     ]
    },
    {
     "name": "stdout",
     "output_type": "stream",
     "text": [
      "300 events found\n",
      "Events id: [1]\n",
      "Extracting parameters from ../../data/EEG/38/export/20130105380002_Pulse_Artifact_Correction_bin.vhdr...\n",
      "No coordinate information found for channels ['ECG']. Setting channel types to misc. To avoid this warning, set channel types explicitly.\n",
      "Setting channel info structure...\n",
      "Currently, 4 trigger(s) will be dropped, such as [s , Sync On, R, Scanner Start]. Consider using ``event_id`` to parse triggers that do not follow the 'S###' pattern.\n"
     ]
    },
    {
     "name": "stderr",
     "output_type": "stream",
     "text": [
      "<ipython-input-3-01d4b85353e4>:3: RuntimeWarning: No coordinate information found for channels ['ECG']. Setting channel types to misc. To avoid this warning, set channel types explicitly.\n",
      "  eeg = mne.io.read_raw_brainvision(path, event_id={\"Scan Start\": 1})\n",
      "<ipython-input-3-01d4b85353e4>:3: RuntimeWarning: Currently, 4 trigger(s) will be dropped, such as [s , Sync On, R, Scanner Start]. Consider using ``event_id`` to parse triggers that do not follow the 'S###' pattern.\n",
      "  eeg = mne.io.read_raw_brainvision(path, event_id={\"Scan Start\": 1})\n"
     ]
    },
    {
     "name": "stdout",
     "output_type": "stream",
     "text": [
      "300 events found\n",
      "Events id: [1]\n",
      "Extracting parameters from ../../data/EEG/41/export/20130516410002_Pulse_Artifact_Correction_bin.vhdr...\n",
      "No coordinate information found for channels ['ECG']. Setting channel types to misc. To avoid this warning, set channel types explicitly.\n",
      "Setting channel info structure...\n",
      "Currently, 4 trigger(s) will be dropped, such as [Sync On, R, Scanner start, s ]. Consider using ``event_id`` to parse triggers that do not follow the 'S###' pattern.\n"
     ]
    },
    {
     "name": "stderr",
     "output_type": "stream",
     "text": [
      "<ipython-input-3-01d4b85353e4>:3: RuntimeWarning: No coordinate information found for channels ['ECG']. Setting channel types to misc. To avoid this warning, set channel types explicitly.\n",
      "  eeg = mne.io.read_raw_brainvision(path, event_id={\"Scan Start\": 1})\n",
      "<ipython-input-3-01d4b85353e4>:3: RuntimeWarning: Currently, 4 trigger(s) will be dropped, such as [Sync On, R, Scanner start, s ]. Consider using ``event_id`` to parse triggers that do not follow the 'S###' pattern.\n",
      "  eeg = mne.io.read_raw_brainvision(path, event_id={\"Scan Start\": 1})\n"
     ]
    },
    {
     "name": "stdout",
     "output_type": "stream",
     "text": [
      "300 events found\n",
      "Events id: [1]\n",
      "Extracting parameters from ../../data/EEG/45/export/20130627450002_Pulse_Artifact_Correction_bin.vhdr...\n",
      "No coordinate information found for channels ['ECG']. Setting channel types to misc. To avoid this warning, set channel types explicitly.\n",
      "Setting channel info structure...\n",
      "Currently, 4 trigger(s) will be dropped, such as [Scanner Start, Sync On, R, s ]. Consider using ``event_id`` to parse triggers that do not follow the 'S###' pattern.\n"
     ]
    },
    {
     "name": "stderr",
     "output_type": "stream",
     "text": [
      "<ipython-input-3-01d4b85353e4>:3: RuntimeWarning: No coordinate information found for channels ['ECG']. Setting channel types to misc. To avoid this warning, set channel types explicitly.\n",
      "  eeg = mne.io.read_raw_brainvision(path, event_id={\"Scan Start\": 1})\n",
      "<ipython-input-3-01d4b85353e4>:3: RuntimeWarning: Currently, 4 trigger(s) will be dropped, such as [Scanner Start, Sync On, R, s ]. Consider using ``event_id`` to parse triggers that do not follow the 'S###' pattern.\n",
      "  eeg = mne.io.read_raw_brainvision(path, event_id={\"Scan Start\": 1})\n"
     ]
    },
    {
     "name": "stdout",
     "output_type": "stream",
     "text": [
      "300 events found\n",
      "Events id: [1]\n"
     ]
    }
   ],
   "source": [
    "for man in all_people:\n",
    "    fmri = read_img(os.path.join(fmri_path, man))\n",
    "    eeg = read_vhdr(os.path.join(eeg_path, man))\n",
    "    transformer = Eeg2Tftr()\n",
    "    tester = BaseTester(os.path.join(report_path, man, 'models'), fmri, eeg, transformer, 240, 300, 0, 210, fmri_multiplicator=100/4095, segment_length=1024*4)\n",
    "    tester.test()"
   ]
  },
  {
   "cell_type": "code",
   "execution_count": null,
   "metadata": {},
   "outputs": [],
   "source": []
  },
  {
   "cell_type": "code",
   "execution_count": null,
   "metadata": {},
   "outputs": [],
   "source": []
  },
  {
   "cell_type": "code",
   "execution_count": 11,
   "metadata": {},
   "outputs": [],
   "source": [
    "def read_vhdr(path):\n",
    "    def read_data(path):\n",
    "        eeg = mne.io.read_raw_brainvision(path, event_id={\"Scan Start\": 1})\n",
    "        data = np.delete(eeg.get_data(), [len(eeg.ch_names) - 1], 0)\n",
    "        return data[:, mne.find_events(eeg)[0][0]:]\n",
    "\n",
    "    path = os.path.join(path, 'export')\n",
    "    files = os.listdir(path)\n",
    "    for file in files:\n",
    "        if file[-5:] == '.vhdr':\n",
    "            return read_data(os.path.join(path, file))[:,::-1]"
   ]
  },
  {
   "cell_type": "code",
   "execution_count": 16,
   "metadata": {},
   "outputs": [
    {
     "name": "stdout",
     "output_type": "stream",
     "text": [
      "Extracting parameters from ../../data/EEG/40/export/20130510400002_Pulse_Artifact_Correction_bin.vhdr...\n",
      "No coordinate information found for channels ['ECG']. Setting channel types to misc. To avoid this warning, set channel types explicitly.\n",
      "Setting channel info structure...\n",
      "Currently, 4 trigger(s) will be dropped, such as [Sync On, Scanner start, s , R]. Consider using ``event_id`` to parse triggers that do not follow the 'S###' pattern.\n"
     ]
    },
    {
     "name": "stderr",
     "output_type": "stream",
     "text": [
      "<ipython-input-11-d7fa58863bdc>:3: RuntimeWarning: No coordinate information found for channels ['ECG']. Setting channel types to misc. To avoid this warning, set channel types explicitly.\n",
      "  eeg = mne.io.read_raw_brainvision(path, event_id={\"Scan Start\": 1})\n",
      "<ipython-input-11-d7fa58863bdc>:3: RuntimeWarning: Currently, 4 trigger(s) will be dropped, such as [Sync On, Scanner start, s , R]. Consider using ``event_id`` to parse triggers that do not follow the 'S###' pattern.\n",
      "  eeg = mne.io.read_raw_brainvision(path, event_id={\"Scan Start\": 1})\n"
     ]
    },
    {
     "name": "stdout",
     "output_type": "stream",
     "text": [
      "300 events found\n",
      "Events id: [1]\n"
     ]
    }
   ],
   "source": [
    "eeg = read_vhdr(os.path.join(eeg_path, '40'))"
   ]
  },
  {
   "cell_type": "code",
   "execution_count": 25,
   "metadata": {},
   "outputs": [
    {
     "data": {
      "text/plain": [
       "(64, 163871)"
      ]
     },
     "execution_count": 25,
     "metadata": {},
     "output_type": "execute_result"
    }
   ],
   "source": [
    "eeg.shape"
   ]
  },
  {
   "cell_type": "code",
   "execution_count": 40,
   "metadata": {},
   "outputs": [
    {
     "data": {
      "text/plain": [
       "array([ True,  True,  True,  True,  True,  True,  True,  True,  True,\n",
       "        True,  True,  True,  True,  True,  True,  True,  True,  True,\n",
       "        True,  True,  True,  True,  True,  True,  True,  True,  True,\n",
       "        True,  True,  True,  True,  True,  True,  True,  True,  True,\n",
       "        True,  True,  True,  True,  True,  True,  True,  True,  True,\n",
       "        True,  True,  True,  True,  True,  True,  True,  True,  True,\n",
       "        True,  True,  True,  True,  True,  True,  True,  True,  True,  True], dtype=bool)"
      ]
     },
     "execution_count": 40,
     "metadata": {},
     "output_type": "execute_result"
    }
   ],
   "source": [
    "eeg[:, 0] == eeg[:, ::-1][:, -1]"
   ]
  },
  {
   "cell_type": "code",
   "execution_count": 37,
   "metadata": {},
   "outputs": [
    {
     "data": {
      "text/plain": [
       "(64,)"
      ]
     },
     "execution_count": 37,
     "metadata": {},
     "output_type": "execute_result"
    }
   ],
   "source": [
    "eeg[:, 0].shape"
   ]
  },
  {
   "cell_type": "code",
   "execution_count": 23,
   "metadata": {},
   "outputs": [
    {
     "data": {
      "text/plain": [
       "(163871,)"
      ]
     },
     "execution_count": 23,
     "metadata": {},
     "output_type": "execute_result"
    }
   ],
   "source": [
    "eeg[:, ::-1][-1].shape"
   ]
  },
  {
   "cell_type": "code",
   "execution_count": 31,
   "metadata": {},
   "outputs": [
    {
     "data": {
      "text/plain": [
       "(163871,)"
      ]
     },
     "execution_count": 31,
     "metadata": {},
     "output_type": "execute_result"
    }
   ],
   "source": [
    "eeg[0, :].shape"
   ]
  },
  {
   "cell_type": "code",
   "execution_count": 33,
   "metadata": {},
   "outputs": [
    {
     "data": {
      "text/plain": [
       "(163871,)"
      ]
     },
     "execution_count": 33,
     "metadata": {},
     "output_type": "execute_result"
    }
   ],
   "source": [
    "np.flip(eeg, -1)[-1].shape"
   ]
  },
  {
   "cell_type": "code",
   "execution_count": null,
   "metadata": {},
   "outputs": [],
   "source": []
  }
 ],
 "metadata": {
  "kernelspec": {
   "display_name": "Python 3",
   "language": "python",
   "name": "python3"
  },
  "language_info": {
   "codemirror_mode": {
    "name": "ipython",
    "version": 3
   },
   "file_extension": ".py",
   "mimetype": "text/x-python",
   "name": "python",
   "nbconvert_exporter": "python",
   "pygments_lexer": "ipython3",
   "version": "3.6.3"
  }
 },
 "nbformat": 4,
 "nbformat_minor": 2
}
