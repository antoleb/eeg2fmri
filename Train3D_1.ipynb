{
 "cells": [
  {
   "cell_type": "code",
   "execution_count": 1,
   "metadata": {},
   "outputs": [
    {
     "name": "stdout",
     "output_type": "stream",
     "text": [
      "Tue May  8 15:31:07 2018       \n",
      "+-----------------------------------------------------------------------------+\n",
      "| NVIDIA-SMI 387.34                 Driver Version: 387.34                    |\n",
      "|-------------------------------+----------------------+----------------------+\n",
      "| GPU  Name        Persistence-M| Bus-Id        Disp.A | Volatile Uncorr. ECC |\n",
      "| Fan  Temp  Perf  Pwr:Usage/Cap|         Memory-Usage | GPU-Util  Compute M. |\n",
      "|===============================+======================+======================|\n",
      "|   0  GeForce GTX 108...  Off  | 00000000:05:00.0 Off |                  N/A |\n",
      "| 31%   51C    P8    20W / 250W |  10348MiB / 11167MiB |      0%      Default |\n",
      "+-------------------------------+----------------------+----------------------+\n",
      "|   1  GeForce GTX 108...  Off  | 00000000:06:00.0 Off |                  N/A |\n",
      "| 34%   54C    P8    19W / 250W |   3191MiB / 11172MiB |      0%      Default |\n",
      "+-------------------------------+----------------------+----------------------+\n",
      "|   2  GeForce GTX 108...  Off  | 00000000:09:00.0 Off |                  N/A |\n",
      "| 40%   58C    P8    20W / 250W |    646MiB / 11172MiB |      0%      Default |\n",
      "+-------------------------------+----------------------+----------------------+\n",
      "|   3  GeForce GTX 108...  Off  | 00000000:0A:00.0 Off |                  N/A |\n",
      "| 46%   66C    P2    62W / 250W |    646MiB / 11172MiB |      0%      Default |\n",
      "+-------------------------------+----------------------+----------------------+\n",
      "                                                                               \n",
      "+-----------------------------------------------------------------------------+\n",
      "| Processes:                                                       GPU Memory |\n",
      "|  GPU       PID   Type   Process name                             Usage      |\n",
      "|=============================================================================|\n",
      "+-----------------------------------------------------------------------------+\n"
     ]
    }
   ],
   "source": [
    "!nvidia-smi"
   ]
  },
  {
   "cell_type": "code",
   "execution_count": 2,
   "metadata": {},
   "outputs": [],
   "source": [
    "from samplers.full_stack_batcher import FullStackBatcher as Batcher\n",
    "from nets.low_net3D_1 import Net\n",
    "from tensorboardX import SummaryWriter\n",
    "\n",
    "import torch\n",
    "import os\n",
    "import numpy as np\n",
    "import gc"
   ]
  },
  {
   "cell_type": "code",
   "execution_count": 3,
   "metadata": {},
   "outputs": [],
   "source": [
    "os.environ['CUDA_VISIBLE_DEVICES'] = '3'"
   ]
  },
  {
   "cell_type": "code",
   "execution_count": 4,
   "metadata": {},
   "outputs": [],
   "source": [
    "data_dir = '../../data/'\n",
    "man = '40'\n",
    "num_train_frames = 210\n",
    "num_val_frames = 30\n",
    "num_test_frames = 60"
   ]
  },
  {
   "cell_type": "code",
   "execution_count": 5,
   "metadata": {},
   "outputs": [
    {
     "name": "stdout",
     "output_type": "stream",
     "text": [
      "Extracting parameters from ../../data/EEG/40/export/20130510400002_Pulse_Artifact_Correction_bin.vhdr...\n",
      "No coordinate information found for channels ['ECG']. Setting channel types to misc. To avoid this warning, set channel types explicitly.\n",
      "Setting channel info structure...\n",
      "Currently, 4 trigger(s) will be dropped, such as [Sync On, s , R, Scanner start]. Consider using ``event_id`` to parse triggers that do not follow the 'S###' pattern.\n"
     ]
    },
    {
     "name": "stderr",
     "output_type": "stream",
     "text": [
      "/home/amplifier/home/proj_dev/eeg2fmri/samplers/full_stack_batcher.py:43: RuntimeWarning: No coordinate information found for channels ['ECG']. Setting channel types to misc. To avoid this warning, set channel types explicitly.\n",
      "  eeg = mne.io.read_raw_brainvision(path, event_id={\"Scan Start\": 1})\n",
      "/home/amplifier/home/proj_dev/eeg2fmri/samplers/full_stack_batcher.py:43: RuntimeWarning: Currently, 4 trigger(s) will be dropped, such as [Sync On, s , R, Scanner start]. Consider using ``event_id`` to parse triggers that do not follow the 'S###' pattern.\n",
      "  eeg = mne.io.read_raw_brainvision(path, event_id={\"Scan Start\": 1})\n"
     ]
    },
    {
     "name": "stdout",
     "output_type": "stream",
     "text": [
      "300 events found\n",
      "Events id: [1]\n",
      "Extracting parameters from ../../data/EEG/40/export/20130510400002_Pulse_Artifact_Correction_bin.vhdr...\n",
      "No coordinate information found for channels ['ECG']. Setting channel types to misc. To avoid this warning, set channel types explicitly.\n",
      "Setting channel info structure...\n",
      "Currently, 4 trigger(s) will be dropped, such as [Sync On, s , R, Scanner start]. Consider using ``event_id`` to parse triggers that do not follow the 'S###' pattern.\n"
     ]
    },
    {
     "name": "stderr",
     "output_type": "stream",
     "text": [
      "/home/amplifier/home/proj_dev/eeg2fmri/samplers/full_stack_batcher.py:43: RuntimeWarning: No coordinate information found for channels ['ECG']. Setting channel types to misc. To avoid this warning, set channel types explicitly.\n",
      "  eeg = mne.io.read_raw_brainvision(path, event_id={\"Scan Start\": 1})\n",
      "/home/amplifier/home/proj_dev/eeg2fmri/samplers/full_stack_batcher.py:43: RuntimeWarning: Currently, 4 trigger(s) will be dropped, such as [Sync On, s , R, Scanner start]. Consider using ``event_id`` to parse triggers that do not follow the 'S###' pattern.\n",
      "  eeg = mne.io.read_raw_brainvision(path, event_id={\"Scan Start\": 1})\n"
     ]
    },
    {
     "name": "stdout",
     "output_type": "stream",
     "text": [
      "300 events found\n",
      "Events id: [1]\n",
      "Extracting parameters from ../../data/EEG/40/export/20130510400002_Pulse_Artifact_Correction_bin.vhdr...\n",
      "No coordinate information found for channels ['ECG']. Setting channel types to misc. To avoid this warning, set channel types explicitly.\n",
      "Setting channel info structure...\n",
      "Currently, 4 trigger(s) will be dropped, such as [Sync On, s , R, Scanner start]. Consider using ``event_id`` to parse triggers that do not follow the 'S###' pattern.\n"
     ]
    },
    {
     "name": "stderr",
     "output_type": "stream",
     "text": [
      "/home/amplifier/home/proj_dev/eeg2fmri/samplers/full_stack_batcher.py:43: RuntimeWarning: No coordinate information found for channels ['ECG']. Setting channel types to misc. To avoid this warning, set channel types explicitly.\n",
      "  eeg = mne.io.read_raw_brainvision(path, event_id={\"Scan Start\": 1})\n",
      "/home/amplifier/home/proj_dev/eeg2fmri/samplers/full_stack_batcher.py:43: RuntimeWarning: Currently, 4 trigger(s) will be dropped, such as [Sync On, s , R, Scanner start]. Consider using ``event_id`` to parse triggers that do not follow the 'S###' pattern.\n",
      "  eeg = mne.io.read_raw_brainvision(path, event_id={\"Scan Start\": 1})\n"
     ]
    },
    {
     "name": "stdout",
     "output_type": "stream",
     "text": [
      "300 events found\n",
      "Events id: [1]\n"
     ]
    }
   ],
   "source": [
    "train_batcher = Batcher(data_dir, man, 0, 540 * (num_train_frames - 1), segment_length=1024*4)\n",
    "val_batcher = Batcher(data_dir, man, 540 * (num_train_frames + 1), 540 * (num_train_frames + num_val_frames - 1), segment_length=1024*4)\n",
    "test_batcher = Batcher(data_dir, man, 540 * (num_train_frames + num_val_frames + 1), 540 * (num_train_frames + num_val_frames + num_test_frames - 1), segment_length=1024*4)"
   ]
  },
  {
   "cell_type": "code",
   "execution_count": 6,
   "metadata": {},
   "outputs": [],
   "source": [
    "net = Net().cuda()\n",
    "loss = torch.nn.MSELoss()\n",
    "optimizer = torch.optim.Adam(net.parameters(), lr=1e-4)\n",
    "fmri_mult = 100"
   ]
  },
  {
   "cell_type": "code",
   "execution_count": 7,
   "metadata": {},
   "outputs": [],
   "source": [
    "!rm -r reports/low_net3D_1"
   ]
  },
  {
   "cell_type": "code",
   "execution_count": 8,
   "metadata": {},
   "outputs": [],
   "source": [
    "report_path = 'reports/low_net3D_1'\n",
    "logs_directory = os.path.join(report_path, 'logs')\n",
    "iteration = 0\n",
    "history = []\n",
    "val_history = []\n",
    "history_step = 250\n",
    "batch_size = 1\n",
    "batch_size_iters=100*50\n",
    "max_batch_size=128\n",
    "num_iters = 50*500\n",
    "writer = SummaryWriter(logs_directory)"
   ]
  },
  {
   "cell_type": "code",
   "execution_count": null,
   "metadata": {},
   "outputs": [],
   "source": [
    "num_iters = 500*50"
   ]
  },
  {
   "cell_type": "code",
   "execution_count": null,
   "metadata": {},
   "outputs": [],
   "source": [
    "while iteration < num_iters:\n",
    "    iteration += 1\n",
    "    X, y = train_batcher.get_batch(batch_size)\n",
    "    X = torch.autograd.Variable(X.data.cuda())\n",
    "    y = y.cuda() * fmri_mult\n",
    "    res = net(X)\n",
    "    optimizer.zero_grad()\n",
    "    train_loss = loss(res, y)\n",
    "    train_loss.backward()\n",
    "    optimizer.step()\n",
    "\n",
    "    if iteration % history_step == 0:\n",
    "        e, f = val_batcher.get_batch(batch_size)\n",
    "        e = torch.autograd.Variable(e.data.cuda(), requires_grad=True)\n",
    "        f = f.cuda() * fmri_mult\n",
    "        res = net(e)\n",
    "        val_loss = loss(res, f)\n",
    "        val_loss.backward()\n",
    "        \n",
    "        res = res.data.cpu().numpy()\n",
    "        f = f.data.cpu().numpy()\n",
    "        grad = e.grad.data.cpu().numpy()\n",
    "        \n",
    "        writer.add_scalars('learning_stats/progress',\n",
    "                       {\n",
    "                           \"train loss\": train_loss,\n",
    "                           'validation loss':val_loss,\n",
    "                       },\n",
    "                       iteration)\n",
    "        \n",
    "        for slice_index in range(30):\n",
    "            val_output = res[0, slice_index]\n",
    "            val_gt = f[0, slice_index]\n",
    "            saving_example = np.concatenate([val_output, val_gt], axis=1)\n",
    "            saving_example /= saving_example.max()\n",
    "            saving_example = saving_example[..., np.newaxis]\n",
    "            saving_example = np.concatenate([saving_example, saving_example, saving_example], -1)\n",
    "            writer.add_image('ValidationExamples/slice_{}'.format(slice_index), saving_example, iteration)\n",
    "        \n",
    "        grad_stats_max = np.max(np.abs(grad).mean(0))\n",
    "        for eeg_channel_index in range(64):\n",
    "            grad_stats = np.abs(grad[:, eeg_channel_index]).mean(0) / grad_stats_max\n",
    "            grad_stats = grad_stats[..., np.newaxis]\n",
    "            grad_stats = np.concatenate([grad_stats, grad_stats, grad_stats], -1)\n",
    "            writer.add_image('GradStatisics/channel_{}'.format(eeg_channel_index), grad_stats, iteration)\n",
    "        \n",
    "\n",
    "    if iteration % batch_size_iters == 0:\n",
    "        batch_size *= 2\n",
    "        batch_size = min(batch_size, max_batch_size)\n",
    "        gc.collect()\n",
    "\n",
    "\n"
   ]
  },
  {
   "cell_type": "code",
   "execution_count": 11,
   "metadata": {},
   "outputs": [
    {
     "data": {
      "text/plain": [
       "30001"
      ]
     },
     "execution_count": 11,
     "metadata": {},
     "output_type": "execute_result"
    }
   ],
   "source": [
    "iteration"
   ]
  },
  {
   "cell_type": "code",
   "execution_count": 12,
   "metadata": {},
   "outputs": [
    {
     "data": {
      "text/plain": [
       "64"
      ]
     },
     "execution_count": 12,
     "metadata": {},
     "output_type": "execute_result"
    }
   ],
   "source": [
    "batch_size"
   ]
  },
  {
   "cell_type": "code",
   "execution_count": 21,
   "metadata": {},
   "outputs": [],
   "source": [
    "from matplotlib import pyplot as plt"
   ]
  },
  {
   "cell_type": "code",
   "execution_count": null,
   "metadata": {},
   "outputs": [],
   "source": [
    "plt.imshow(np.abs(grad[:, 16]).mean(0))\n",
    "plt.show()"
   ]
  },
  {
   "cell_type": "code",
   "execution_count": null,
   "metadata": {},
   "outputs": [],
   "source": [
    "!ls ../../reports/500_50_iters_1_non_const_bs/49"
   ]
  },
  {
   "cell_type": "code",
   "execution_count": null,
   "metadata": {},
   "outputs": [],
   "source": [
    "lol = np.load('../../reports/500_50_iters_1_non_const_bs/49/val_history.npy') "
   ]
  },
  {
   "cell_type": "code",
   "execution_count": null,
   "metadata": {},
   "outputs": [],
   "source": [
    "lol[-1]"
   ]
  },
  {
   "cell_type": "code",
   "execution_count": null,
   "metadata": {},
   "outputs": [],
   "source": [
    "!nvidia-smi"
   ]
  },
  {
   "cell_type": "code",
   "execution_count": 15,
   "metadata": {},
   "outputs": [],
   "source": [
    "torch.save(net, os.path.join(report_path, 'models', 'net'))"
   ]
  },
  {
   "cell_type": "code",
   "execution_count": 14,
   "metadata": {},
   "outputs": [],
   "source": [
    "os.makedirs(os.path.join(report_path, 'models'))"
   ]
  },
  {
   "cell_type": "code",
   "execution_count": 23,
   "metadata": {},
   "outputs": [
    {
     "data": {
      "image/png": "[encoded data removed]",
      "text/plain": [
       "<matplotlib.figure.Figure at 0x7f225e149d68>"
      ]
     },
     "metadata": {},
     "output_type": "display_data"
    }
   ],
   "source": [
    "plt.imshow(e.data.cpu().numpy()[0, 16])\n",
    "plt.show()"
   ]
  },
  {
   "cell_type": "code",
   "execution_count": null,
   "metadata": {},
   "outputs": [],
   "source": []
  }
 ],
 "metadata": {
  "kernelspec": {
   "display_name": "Python 3",
   "language": "python",
   "name": "python3"
  },
  "language_info": {
   "codemirror_mode": {
    "name": "ipython",
    "version": 3
   },
   "file_extension": ".py",
   "mimetype": "text/x-python",
   "name": "python",
   "nbconvert_exporter": "python",
   "pygments_lexer": "ipython3",
   "version": "3.6.3"
  }
 },
 "nbformat": 4,
 "nbformat_minor": 2
}
